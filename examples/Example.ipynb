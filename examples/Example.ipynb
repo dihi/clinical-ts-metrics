{
 "cells": [
  {
   "cell_type": "code",
   "execution_count": 1,
   "id": "8523a0d5",
   "metadata": {},
   "outputs": [],
   "source": [
    "import subprocess\n",
    "import json\n",
    "import sys\n",
    "sys.path.append(\"../src/\")\n",
    "from utils import get_metrics\n",
    "import numpy as np"
   ]
  },
  {
   "cell_type": "markdown",
   "id": "b32b6441",
   "metadata": {},
   "source": [
    "This assumes that the benchmarks have been generated using the `../src/create_benchmark_data.py`. For the sake of convenience, the binary has been renamed to just `process_trajectories`"
   ]
  },
  {
   "cell_type": "code",
   "execution_count": 2,
   "id": "32c13301",
   "metadata": {},
   "outputs": [],
   "source": [
    "def run_eval_tool(input_file, output_file, detection_window, snooze_window, num_threshold=10000):\n",
    "    subprocess.run(['../src/process_trajectories', '-i', input_file, '-o', output_file, '-d', str(detection_window), '-s', str(snooze_window), '-n', str(num_threshold)], stdout=subprocess.DEVNULL)"
   ]
  },
  {
   "cell_type": "markdown",
   "id": "2effb035",
   "metadata": {},
   "source": [
    "### Read in data "
   ]
  },
  {
   "cell_type": "code",
   "execution_count": 3,
   "id": "d1ab1dbe",
   "metadata": {},
   "outputs": [],
   "source": [
    "with open(\"../benchmark_data/benchmark_trajectories_200.json\", \"r\") as f:\n",
    "    benchmark_200 = json.load(f)\n",
    "\n",
    "with open(\"../benchmark_data/benchmark_trajectories_2000.json\", \"r\") as f:\n",
    "    benchmark_2000 = json.load(f)\n",
    "    \n",
    "with open(\"../benchmark_data/benchmark_trajectories_20000.json\", \"r\") as f:\n",
    "    benchmark_20000 = json.load(f)"
   ]
  },
  {
   "cell_type": "markdown",
   "id": "4f00873f",
   "metadata": {},
   "source": [
    "## Using python implementation "
   ]
  },
  {
   "cell_type": "code",
   "execution_count": 4,
   "id": "9bf16edf",
   "metadata": {
    "scrolled": true
   },
   "outputs": [
    {
     "data": {
      "text/plain": [
       "[{'threshold': 0.0,\n",
       "  'episode_tp': 91,\n",
       "  'episode_fp': 108,\n",
       "  'episode_tn': 0,\n",
       "  'episode_fn': 1,\n",
       "  'prediction_tp': 211,\n",
       "  'prediction_fp': 7400},\n",
       " {'threshold': 0.010101010101010102,\n",
       "  'episode_tp': 91,\n",
       "  'episode_fp': 108,\n",
       "  'episode_tn': 0,\n",
       "  'episode_fn': 1,\n",
       "  'prediction_tp': 211,\n",
       "  'prediction_fp': 7397}]"
      ]
     },
     "execution_count": 4,
     "metadata": {},
     "output_type": "execute_result"
    }
   ],
   "source": [
    "get_metrics(benchmark_200, thresholds=np.linspace(0,1, 100), snooze_window=5, detection_window=12)[0:2]"
   ]
  },
  {
   "cell_type": "markdown",
   "id": "48cce6d0",
   "metadata": {},
   "source": [
    "## Using native implementation"
   ]
  },
  {
   "cell_type": "code",
   "execution_count": 5,
   "id": "3a1c348c",
   "metadata": {},
   "outputs": [],
   "source": [
    "run_eval_tool(input_file=\"../benchmark_data/benchmark_trajectories_200.json\",\n",
    "              output_file=\"../benchmark_data/tmp_results.json\",\n",
    "              snooze_window=5,\n",
    "              detection_window=12,\n",
    "              num_threshold=100)"
   ]
  },
  {
   "cell_type": "code",
   "execution_count": 6,
   "id": "2fb2ea2f",
   "metadata": {},
   "outputs": [],
   "source": [
    "with open(\"../benchmark_data/tmp_results.json\", \"r\") as f:\n",
    "    example_results = json.load(f)"
   ]
  },
  {
   "cell_type": "code",
   "execution_count": 7,
   "id": "333c47a7",
   "metadata": {
    "scrolled": false
   },
   "outputs": [
    {
     "data": {
      "text/plain": [
       "[{'threshold': 0.0,\n",
       "  'episode_tp': 91,\n",
       "  'episode_fp': 108,\n",
       "  'episode_tn': 0,\n",
       "  'episode_fn': 1,\n",
       "  'prediction_tp': 211,\n",
       "  'prediction_fp': 7400},\n",
       " {'threshold': 0.0101010101010101,\n",
       "  'episode_tp': 91,\n",
       "  'episode_fp': 108,\n",
       "  'episode_tn': 0,\n",
       "  'episode_fn': 1,\n",
       "  'prediction_tp': 211,\n",
       "  'prediction_fp': 7397}]"
      ]
     },
     "execution_count": 7,
     "metadata": {},
     "output_type": "execute_result"
    }
   ],
   "source": [
    "example_results[0:2]"
   ]
  },
  {
   "cell_type": "markdown",
   "id": "993ded96",
   "metadata": {},
   "source": [
    "# Example Benchmarking "
   ]
  },
  {
   "cell_type": "code",
   "execution_count": 8,
   "id": "b2015534",
   "metadata": {
    "scrolled": true
   },
   "outputs": [
    {
     "name": "stdout",
     "output_type": "stream",
     "text": [
      "1min 52s ± 0 ns per loop (mean ± std. dev. of 1 run, 1 loop each)\n"
     ]
    }
   ],
   "source": [
    "%%timeit -n 1 -r 1\n",
    "get_metrics(benchmark_2000, thresholds=np.linspace(0,1, 1000), snooze_window=5, detection_window=12)[0:2]"
   ]
  },
  {
   "cell_type": "code",
   "execution_count": 13,
   "id": "073293d4",
   "metadata": {
    "scrolled": true
   },
   "outputs": [
    {
     "name": "stdout",
     "output_type": "stream",
     "text": [
      "10.1 s ± 0 ns per loop (mean ± std. dev. of 1 run, 1 loop each)\n"
     ]
    }
   ],
   "source": [
    "%%timeit -n 1 -r 1\n",
    "run_eval_tool(input_file=\"../benchmark_data/benchmark_trajectories_2000.json\",\n",
    "              output_file=\"../benchmark_data/tmp_results.json\",\n",
    "              snooze_window=5,\n",
    "              detection_window=12,\n",
    "              num_threshold=1000)"
   ]
  },
  {
   "cell_type": "code",
   "execution_count": 10,
   "id": "53c72615",
   "metadata": {
    "scrolled": true
   },
   "outputs": [
    {
     "name": "stdout",
     "output_type": "stream",
     "text": [
      "18min 58s ± 0 ns per loop (mean ± std. dev. of 1 run, 1 loop each)\n"
     ]
    }
   ],
   "source": [
    "%%timeit -n 1 -r 1\n",
    "get_metrics(benchmark_20000, thresholds=np.linspace(0,1, 1000), snooze_window=5, detection_window=12)[0:2]"
   ]
  },
  {
   "cell_type": "code",
   "execution_count": 12,
   "id": "7292e5a0",
   "metadata": {},
   "outputs": [
    {
     "name": "stdout",
     "output_type": "stream",
     "text": [
      "1min 49s ± 0 ns per loop (mean ± std. dev. of 1 run, 1 loop each)\n"
     ]
    }
   ],
   "source": [
    "%%timeit -n 1 -r 1\n",
    "run_eval_tool(input_file=\"../benchmark_data/benchmark_trajectories_20000.json\",\n",
    "              output_file=\"../benchmark_data/tmp_results.json\",\n",
    "              snooze_window=5,\n",
    "              detection_window=12,\n",
    "              num_threshold=1000)"
   ]
  }
 ],
 "metadata": {
  "kernelspec": {
   "display_name": "Python 3 (ipykernel)",
   "language": "python",
   "name": "python3"
  },
  "language_info": {
   "codemirror_mode": {
    "name": "ipython",
    "version": 3
   },
   "file_extension": ".py",
   "mimetype": "text/x-python",
   "name": "python",
   "nbconvert_exporter": "python",
   "pygments_lexer": "ipython3",
   "version": "3.8.13"
  }
 },
 "nbformat": 4,
 "nbformat_minor": 5
}

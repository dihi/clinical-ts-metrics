{
 "cells": [
  {
   "cell_type": "code",
   "execution_count": 1,
   "id": "0915e8f6",
   "metadata": {},
   "outputs": [],
   "source": [
    "import subprocess\n",
    "import json\n",
    "import sys\n",
    "sys.path.append(\"../src/\")\n",
    "from utils import get_metrics\n",
    "import numpy as np"
   ]
  },
  {
   "cell_type": "markdown",
   "id": "999e1e26",
   "metadata": {},
   "source": [
    "This assumes that the benchmarks have been generated using the `../src/create_benchmark_data.py`. For the sake of convenience, the binary has been renamed to just `process_trajectories`"
   ]
  },
  {
   "cell_type": "code",
   "execution_count": 2,
   "id": "632bae2b",
   "metadata": {},
   "outputs": [],
   "source": [
    "def run_eval_tool(input_file, output_file, detection_window, snooze_window, num_threshold=10000):\n",
    "    subprocess.run(['../src/process_trajectories', '-i', input_file, '-o', output_file, '-d', str(detection_window), '-s', str(snooze_window), '-n', str(num_threshold)], stdout=subprocess.DEVNULL)"
   ]
  },
  {
   "cell_type": "markdown",
   "id": "3ecfa5ba",
   "metadata": {},
   "source": [
    "### Read in data "
   ]
  },
  {
   "cell_type": "code",
   "execution_count": 3,
   "id": "a7383830",
   "metadata": {},
   "outputs": [],
   "source": [
    "with open(\"../benchmark_data/benchmark_trajectories_200.json\", \"r\") as f:\n",
    "    benchmark_200 = json.load(f)\n",
    "\n",
    "with open(\"../benchmark_data/benchmark_trajectories_2000.json\", \"r\") as f:\n",
    "    benchmark_2000 = json.load(f)\n",
    "    \n",
    "with open(\"../benchmark_data/benchmark_trajectories_20000.json\", \"r\") as f:\n",
    "    benchmark_20000 = json.load(f)"
   ]
  },
  {
   "cell_type": "markdown",
   "id": "2b770e64",
   "metadata": {},
   "source": [
    "## Using python implementation "
   ]
  },
  {
   "cell_type": "code",
   "execution_count": 4,
   "id": "a3351e6b",
   "metadata": {
    "scrolled": true
   },
   "outputs": [
    {
     "data": {
      "text/plain": [
       "[{'threshold': 0.0,\n",
       "  'episode_tp': 91,\n",
       "  'episode_fp': 108,\n",
       "  'episode_tn': 0,\n",
       "  'episode_fn': 1,\n",
       "  'prediction_tp': 211,\n",
       "  'prediction_fp': 7400},\n",
       " {'threshold': 0.010101010101010102,\n",
       "  'episode_tp': 91,\n",
       "  'episode_fp': 108,\n",
       "  'episode_tn': 0,\n",
       "  'episode_fn': 1,\n",
       "  'prediction_tp': 211,\n",
       "  'prediction_fp': 7397}]"
      ]
     },
     "execution_count": 4,
     "metadata": {},
     "output_type": "execute_result"
    }
   ],
   "source": [
    "get_metrics(benchmark_200, thresholds=np.linspace(0,1, 100), snooze_window=5, detection_window=12)[0:2]"
   ]
  },
  {
   "cell_type": "markdown",
   "id": "ed98a672",
   "metadata": {},
   "source": [
    "## Using native implementation"
   ]
  },
  {
   "cell_type": "code",
   "execution_count": 5,
   "id": "2ea29afc",
   "metadata": {},
   "outputs": [],
   "source": [
    "run_eval_tool(input_file=\"../benchmark_data/benchmark_trajectories_200.json\",\n",
    "              output_file=\"../benchmark_data/tmp_results.json\",\n",
    "              snooze_window=5,\n",
    "              detection_window=12,\n",
    "              num_threshold=100)"
   ]
  },
  {
   "cell_type": "code",
   "execution_count": 6,
   "id": "b6a1490c",
   "metadata": {},
   "outputs": [],
   "source": [
    "with open(\"../benchmark_data/tmp_results.json\", \"r\") as f:\n",
    "    example_results = json.load(f)"
   ]
  },
  {
   "cell_type": "code",
   "execution_count": 7,
   "id": "bf809c86",
   "metadata": {
    "scrolled": false
   },
   "outputs": [
    {
     "data": {
      "text/plain": [
       "[{'threshold': 0.0,\n",
       "  'episode_tp': 91,\n",
       "  'episode_fp': 108,\n",
       "  'episode_tn': 0,\n",
       "  'episode_fn': 1,\n",
       "  'prediction_tp': 211,\n",
       "  'prediction_fp': 7400},\n",
       " {'threshold': 0.0101010101010101,\n",
       "  'episode_tp': 91,\n",
       "  'episode_fp': 108,\n",
       "  'episode_tn': 0,\n",
       "  'episode_fn': 1,\n",
       "  'prediction_tp': 211,\n",
       "  'prediction_fp': 7397}]"
      ]
     },
     "execution_count": 7,
     "metadata": {},
     "output_type": "execute_result"
    }
   ],
   "source": [
    "example_results[0:2]"
   ]
  },
  {
   "cell_type": "markdown",
   "id": "dd53ead4",
   "metadata": {},
   "source": [
    "# Example Benchmarking "
   ]
  },
  {
   "cell_type": "code",
   "execution_count": 8,
   "id": "f7a45389",
   "metadata": {
    "scrolled": true
   },
   "outputs": [
    {
     "name": "stdout",
     "output_type": "stream",
     "text": [
      "1min 52s ± 0 ns per loop (mean ± std. dev. of 1 run, 1 loop each)\n"
     ]
    }
   ],
   "source": [
    "%%timeit -n 1 -r 1\n",
    "get_metrics(benchmark_2000, thresholds=np.linspace(0,1, 1000), snooze_window=5, detection_window=12)[0:2]"
   ]
  },
  {
   "cell_type": "code",
   "execution_count": 14,
   "id": "8d61d3ae",
   "metadata": {
    "scrolled": true
   },
   "outputs": [
    {
     "name": "stdout",
     "output_type": "stream",
     "text": [
      "6.98 s ± 0 ns per loop (mean ± std. dev. of 1 run, 1 loop each)\n"
     ]
    }
   ],
   "source": [
    "%%timeit -n 1 -r 1\n",
    "run_eval_tool(input_file=\"../benchmark_data/benchmark_trajectories_2000.json\",\n",
    "              output_file=\"../benchmark_data/tmp_results.json\",\n",
    "              snooze_window=5,\n",
    "              detection_window=12,\n",
    "              num_threshold=1000)"
   ]
  },
  {
   "cell_type": "code",
   "execution_count": 10,
   "id": "a7d206e0",
   "metadata": {
    "scrolled": true
   },
   "outputs": [
    {
     "name": "stdout",
     "output_type": "stream",
     "text": [
      "18min 58s ± 0 ns per loop (mean ± std. dev. of 1 run, 1 loop each)\n"
     ]
    }
   ],
   "source": [
    "%%timeit -n 1 -r 1\n",
    "get_metrics(benchmark_20000, thresholds=np.linspace(0,1, 1000), snooze_window=5, detection_window=12)[0:2]"
   ]
  },
  {
   "cell_type": "code",
   "execution_count": 15,
   "id": "e7126a41",
   "metadata": {},
   "outputs": [
    {
     "name": "stdout",
     "output_type": "stream",
     "text": [
      "1min 17s ± 0 ns per loop (mean ± std. dev. of 1 run, 1 loop each)\n"
     ]
    }
   ],
   "source": [
    "%%timeit -n 1 -r 1\n",
    "run_eval_tool(input_file=\"../benchmark_data/benchmark_trajectories_20000.json\",\n",
    "              output_file=\"../benchmark_data/tmp_results.json\",\n",
    "              snooze_window=5,\n",
    "              detection_window=12,\n",
    "              num_threshold=1000)"
   ]
  }
 ],
 "metadata": {
  "kernelspec": {
   "display_name": "Python 3 (ipykernel)",
   "language": "python",
   "name": "python3"
  },
  "language_info": {
   "codemirror_mode": {
    "name": "ipython",
    "version": 3
   },
   "file_extension": ".py",
   "mimetype": "text/x-python",
   "name": "python",
   "nbconvert_exporter": "python",
   "pygments_lexer": "ipython3",
   "version": "3.8.13"
  }
 },
 "nbformat": 4,
 "nbformat_minor": 5
}
